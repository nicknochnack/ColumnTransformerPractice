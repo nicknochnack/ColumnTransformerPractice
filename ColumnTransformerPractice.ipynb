{
  "nbformat": 4,
  "nbformat_minor": 0,
  "metadata": {
    "colab": {
      "name": "ColumnTransformerPractice.ipynb",
      "provenance": []
    },
    "kernelspec": {
      "name": "python3",
      "display_name": "Python 3"
    },
    "language_info": {
      "name": "python"
    }
  },
  "cells": [
    {
      "cell_type": "markdown",
      "source": [
        "# Authenticate to Kaggle"
      ],
      "metadata": {
        "id": "qMYAC-r3UOt6"
      }
    },
    {
      "cell_type": "code",
      "source": [
        "!mkdir ~/.kaggle"
      ],
      "metadata": {
        "id": "aKp5iYPRUY5B"
      },
      "execution_count": 1,
      "outputs": []
    },
    {
      "cell_type": "code",
      "source": [
        "!cp kaggle.json ~/.kaggle/kaggle.json"
      ],
      "metadata": {
        "id": "mZb8zraHUcC8"
      },
      "execution_count": 6,
      "outputs": []
    },
    {
      "cell_type": "code",
      "source": [
        "!chmod 600 ~/.kaggle/kaggle.json"
      ],
      "metadata": {
        "id": "rH74hoQoUfy8"
      },
      "execution_count": 7,
      "outputs": []
    },
    {
      "cell_type": "code",
      "source": [
        "!pip list"
      ],
      "metadata": {
        "id": "8idprckpUu8z"
      },
      "execution_count": null,
      "outputs": []
    },
    {
      "cell_type": "code",
      "source": [
        "!kaggle competitions download -c house-prices-advanced-regression-techniques"
      ],
      "metadata": {
        "colab": {
          "base_uri": "https://localhost:8080/"
        },
        "id": "7LoX-osGUw8T",
        "outputId": "7d46a500-1e4d-4712-cbd4-c8939dad3eaf"
      },
      "execution_count": 10,
      "outputs": [
        {
          "output_type": "stream",
          "name": "stdout",
          "text": [
            "Downloading house-prices-advanced-regression-techniques.zip to /content\n",
            "\r  0% 0.00/199k [00:00<?, ?B/s]\n",
            "\r100% 199k/199k [00:00<00:00, 66.4MB/s]\n"
          ]
        }
      ]
    },
    {
      "cell_type": "code",
      "source": [
        "!unzip house-prices-advanced-regression-techniques.zip"
      ],
      "metadata": {
        "colab": {
          "base_uri": "https://localhost:8080/"
        },
        "id": "Q8qcvyulVAHS",
        "outputId": "34884499-f41b-4864-eb06-c2eeff37d85b"
      },
      "execution_count": 11,
      "outputs": [
        {
          "output_type": "stream",
          "name": "stdout",
          "text": [
            "Archive:  house-prices-advanced-regression-techniques.zip\n",
            "  inflating: data_description.txt    \n",
            "  inflating: sample_submission.csv   \n",
            "  inflating: test.csv                \n",
            "  inflating: train.csv               \n"
          ]
        }
      ]
    },
    {
      "cell_type": "markdown",
      "source": [
        "# Pipeline Practice"
      ],
      "metadata": {
        "id": "gAt5Un5uVITi"
      }
    },
    {
      "cell_type": "code",
      "source": [
        "import pandas as pd\n",
        "from sklearn.pipeline import make_pipeline, Pipeline\n",
        "from sklearn.preprocessing import StandardScaler\n",
        "from sklearn.ensemble import RandomForestRegressor"
      ],
      "metadata": {
        "id": "R0iuIbOQVci6"
      },
      "execution_count": 45,
      "outputs": []
    },
    {
      "cell_type": "code",
      "source": [
        "df = pd.read_csv('train.csv')"
      ],
      "metadata": {
        "id": "5gA74P-bVR5J"
      },
      "execution_count": 14,
      "outputs": []
    },
    {
      "cell_type": "code",
      "source": [
        "df.head()"
      ],
      "metadata": {
        "id": "m6kNTtbLVbrh"
      },
      "execution_count": null,
      "outputs": []
    },
    {
      "cell_type": "code",
      "source": [
        "# Only certain columns so I don't need to deal with NaNs for non\n",
        "select_df = df[['MSSubClass','MSZoning','LotFrontage','LotArea', 'Street', 'LotShape',\n",
        "        'LandContour',\t'Utilities', 'MiscVal', 'MoSold', 'YrSold', 'SaleType', 'SalePrice']].dropna()"
      ],
      "metadata": {
        "id": "Qhd9FqKYWpQ9"
      },
      "execution_count": 27,
      "outputs": []
    },
    {
      "cell_type": "code",
      "source": [
        "# Only certain columns so I don't need to deal with NaNs for now\n",
        "X = pd.get_dummies(select_df.drop('SalePrice', axis=1))\n",
        "y = select_df.SalePrice"
      ],
      "metadata": {
        "id": "pyJK7y3lV74n"
      },
      "execution_count": 26,
      "outputs": []
    },
    {
      "cell_type": "code",
      "source": [
        "pipeline = make_pipeline(StandardScaler(), RandomForestRegressor())"
      ],
      "metadata": {
        "id": "3a8wbqNeXZ96"
      },
      "execution_count": 29,
      "outputs": []
    },
    {
      "cell_type": "code",
      "source": [
        "pipeline.fit(X,y)"
      ],
      "metadata": {
        "colab": {
          "base_uri": "https://localhost:8080/"
        },
        "id": "nNZsxR0AXlai",
        "outputId": "60ac414e-3e5b-4b84-c43c-5959ae576388"
      },
      "execution_count": 30,
      "outputs": [
        {
          "output_type": "execute_result",
          "data": {
            "text/plain": [
              "Pipeline(steps=[('standardscaler', StandardScaler()),\n",
              "                ('randomforestregressor', RandomForestRegressor())])"
            ]
          },
          "metadata": {},
          "execution_count": 30
        }
      ]
    },
    {
      "cell_type": "code",
      "source": [
        "pipeline.predict(X)"
      ],
      "metadata": {
        "colab": {
          "base_uri": "https://localhost:8080/"
        },
        "id": "jWfgnUN9Xm7y",
        "outputId": "f55ec9bf-dbad-4bd2-b7ce-c6ee00f61b9b"
      },
      "execution_count": 31,
      "outputs": [
        {
          "output_type": "execute_result",
          "data": {
            "text/plain": [
              "array([203543.5 , 169576.5 , 214726.  , ..., 225193.58, 143516.  ,\n",
              "       152326.  ])"
            ]
          },
          "metadata": {},
          "execution_count": 31
        }
      ]
    },
    {
      "cell_type": "markdown",
      "source": [
        "# Save the Pipeline"
      ],
      "metadata": {
        "id": "wJGE5PdSXpmC"
      }
    },
    {
      "cell_type": "code",
      "source": [
        "import pickle"
      ],
      "metadata": {
        "id": "V34OUSvbXzM5"
      },
      "execution_count": 32,
      "outputs": []
    },
    {
      "cell_type": "code",
      "source": [
        "with open('pipelinemodel.pkl', 'wb') as f:\n",
        "  pickle.dump(pipeline, f)"
      ],
      "metadata": {
        "id": "lWo0NR0kX0XJ"
      },
      "execution_count": 34,
      "outputs": []
    },
    {
      "cell_type": "code",
      "source": [
        "with open('pipelinemodel.pkl', 'rb') as f: \n",
        "  reloaded_model = pickle.load(f)"
      ],
      "metadata": {
        "id": "66OnIvrlX5eY"
      },
      "execution_count": 35,
      "outputs": []
    },
    {
      "cell_type": "code",
      "source": [
        "reloaded_model"
      ],
      "metadata": {
        "colab": {
          "base_uri": "https://localhost:8080/"
        },
        "id": "z-wfBcOyYEOo",
        "outputId": "6dee0ade-1615-45a1-8643-52063c2a2574"
      },
      "execution_count": 36,
      "outputs": [
        {
          "output_type": "execute_result",
          "data": {
            "text/plain": [
              "Pipeline(steps=[('standardscaler', StandardScaler()),\n",
              "                ('randomforestregressor', RandomForestRegressor())])"
            ]
          },
          "metadata": {},
          "execution_count": 36
        }
      ]
    },
    {
      "cell_type": "code",
      "source": [
        "reloaded_model.steps[1][1].predict(X)"
      ],
      "metadata": {
        "id": "_QTvyCXdYFaZ"
      },
      "execution_count": null,
      "outputs": []
    },
    {
      "cell_type": "markdown",
      "source": [
        "# Using the Pipeline Class "
      ],
      "metadata": {
        "id": "ZbmPjZENaC1K"
      }
    },
    {
      "cell_type": "code",
      "source": [
        "# with the pipeline class\n",
        "custom_pipeline = Pipeline([('scaling', StandardScaler()),('rfmodel', RandomForestRegressor())])"
      ],
      "metadata": {
        "id": "0SKnOxM1YReJ"
      },
      "execution_count": 48,
      "outputs": []
    },
    {
      "cell_type": "code",
      "source": [
        "custom_pipeline"
      ],
      "metadata": {
        "colab": {
          "base_uri": "https://localhost:8080/"
        },
        "id": "Pf0jazWJaZxo",
        "outputId": "d6d839e0-5f5c-4ac1-fca7-cafff89368f8"
      },
      "execution_count": 50,
      "outputs": [
        {
          "output_type": "execute_result",
          "data": {
            "text/plain": [
              "Pipeline(steps=[('scaling', StandardScaler()),\n",
              "                ('rfmodel', RandomForestRegressor())])"
            ]
          },
          "metadata": {},
          "execution_count": 50
        }
      ]
    },
    {
      "cell_type": "code",
      "source": [
        "# with the make_pipeline class\n",
        "make_pipeline_model = make_pipeline(StandardScaler(), RandomForestRegressor())"
      ],
      "metadata": {
        "id": "TuKfhN3YaMsC"
      },
      "execution_count": 49,
      "outputs": []
    },
    {
      "cell_type": "code",
      "source": [
        "make_pipeline_model"
      ],
      "metadata": {
        "colab": {
          "base_uri": "https://localhost:8080/"
        },
        "id": "JvomVhsZaZB4",
        "outputId": "c1eba976-1a66-4513-86d5-5bec454bcf1a"
      },
      "execution_count": 51,
      "outputs": [
        {
          "output_type": "execute_result",
          "data": {
            "text/plain": [
              "Pipeline(steps=[('standardscaler', StandardScaler()),\n",
              "                ('randomforestregressor', RandomForestRegressor())])"
            ]
          },
          "metadata": {},
          "execution_count": 51
        }
      ]
    },
    {
      "cell_type": "markdown",
      "source": [
        "# Column Transformers"
      ],
      "metadata": {
        "id": "4uzgFUlXafwp"
      }
    },
    {
      "cell_type": "code",
      "source": [
        "from sklearn.compose import ColumnTransformer\n",
        "from sklearn.preprocessing import OneHotEncoder"
      ],
      "metadata": {
        "id": "8Al1nisra5jv"
      },
      "execution_count": 53,
      "outputs": []
    },
    {
      "cell_type": "code",
      "source": [
        "select_df.select_dtypes('object').columns"
      ],
      "metadata": {
        "colab": {
          "base_uri": "https://localhost:8080/"
        },
        "id": "xgI20sxVbM0m",
        "outputId": "24ebef44-64e6-422e-8f08-da1abd17d04a"
      },
      "execution_count": 55,
      "outputs": [
        {
          "output_type": "execute_result",
          "data": {
            "text/plain": [
              "Index(['MSZoning', 'Street', 'LotShape', 'LandContour', 'Utilities',\n",
              "       'SaleType'],\n",
              "      dtype='object')"
            ]
          },
          "metadata": {},
          "execution_count": 55
        }
      ]
    },
    {
      "cell_type": "code",
      "source": [
        "# Numeric Features\n",
        "numeric_features = select_df.drop('SalePrice', axis=1).select_dtypes(exclude='object').columns\n",
        "numeric_pipeline = Pipeline([('scaler', StandardScaler())])"
      ],
      "metadata": {
        "id": "Wxr_poQAa9q4"
      },
      "execution_count": 85,
      "outputs": []
    },
    {
      "cell_type": "code",
      "source": [
        "# Categorical Features\n",
        "categorical_features = select_df.select_dtypes('object').columns\n",
        "categorical_pipeline = Pipeline([('onehot', OneHotEncoder())])"
      ],
      "metadata": {
        "id": "ld6dPmDubCkP"
      },
      "execution_count": 86,
      "outputs": []
    },
    {
      "cell_type": "code",
      "source": [
        "transformer = ColumnTransformer([('numeric_preprocessing', numeric_pipeline, numeric_features), \n",
        "                                 ('categorical_preprocessing', categorical_pipeline, categorical_features)])"
      ],
      "metadata": {
        "id": "eypRerjublZN"
      },
      "execution_count": 87,
      "outputs": []
    },
    {
      "cell_type": "code",
      "source": [
        "ml_pipeline = Pipeline([('all_column_preprocessing', transformer), ('randforestclassifier', RandomForestRegressor())])"
      ],
      "metadata": {
        "id": "c1LUoyAUb8r6"
      },
      "execution_count": 88,
      "outputs": []
    },
    {
      "cell_type": "code",
      "source": [
        "X = select_df.drop('SalePrice', axis=1)\n",
        "y = select_df['SalePrice']"
      ],
      "metadata": {
        "id": "ayrnGS0wdMlA"
      },
      "execution_count": 89,
      "outputs": []
    },
    {
      "cell_type": "code",
      "source": [
        "ml_pipeline.fit(X, y)"
      ],
      "metadata": {
        "colab": {
          "base_uri": "https://localhost:8080/"
        },
        "id": "c17Wi_pVchmC",
        "outputId": "1c2c8231-637e-4b2a-bc70-a673e3f79467"
      },
      "execution_count": 90,
      "outputs": [
        {
          "output_type": "execute_result",
          "data": {
            "text/plain": [
              "Pipeline(steps=[('all_column_preprocessing',\n",
              "                 ColumnTransformer(transformers=[('numeric_preprocessing',\n",
              "                                                  Pipeline(steps=[('scaler',\n",
              "                                                                   StandardScaler())]),\n",
              "                                                  Index(['MSSubClass', 'LotFrontage', 'LotArea', 'MiscVal', 'MoSold', 'YrSold'], dtype='object')),\n",
              "                                                 ('categorical_preprocessing',\n",
              "                                                  Pipeline(steps=[('onehot',\n",
              "                                                                   OneHotEncoder())]),\n",
              "                                                  Index(['MSZoning', 'Street', 'LotShape', 'LandContour', 'Utilities',\n",
              "       'SaleType'],\n",
              "      dtype='object'))])),\n",
              "                ('randforestclassifier', RandomForestRegressor())])"
            ]
          },
          "metadata": {},
          "execution_count": 90
        }
      ]
    },
    {
      "cell_type": "code",
      "source": [
        "ml_pipeline.predict(X)"
      ],
      "metadata": {
        "colab": {
          "base_uri": "https://localhost:8080/"
        },
        "id": "0HLDc2H-c-IQ",
        "outputId": "91af189a-202b-4452-93bd-3429cbf2416b"
      },
      "execution_count": 91,
      "outputs": [
        {
          "output_type": "execute_result",
          "data": {
            "text/plain": [
              "array([204506.  , 165339.64, 210766.72, ..., 232544.5 , 144572.75,\n",
              "       155401.5 ])"
            ]
          },
          "metadata": {},
          "execution_count": 91
        }
      ]
    },
    {
      "cell_type": "code",
      "source": [
        "with open('columntransformermodel.pkl', 'wb') as f: \n",
        "  pickle.dump(ml_pipeline, f)"
      ],
      "metadata": {
        "id": "2jaCP-zgeNyc"
      },
      "execution_count": 92,
      "outputs": []
    },
    {
      "cell_type": "code",
      "source": [
        "with open('columntransformermodel.pkl', 'rb') as f: \n",
        "  reloaded_ml_pipeline = pickle.load(f)"
      ],
      "metadata": {
        "id": "h9WOMAIMeWfU"
      },
      "execution_count": 93,
      "outputs": []
    },
    {
      "cell_type": "code",
      "source": [
        "reloaded_ml_pipeline"
      ],
      "metadata": {
        "colab": {
          "base_uri": "https://localhost:8080/"
        },
        "id": "6PwL0nXRedZs",
        "outputId": "dda0004a-ce55-4513-ff9c-8515c3bbc437"
      },
      "execution_count": 94,
      "outputs": [
        {
          "output_type": "execute_result",
          "data": {
            "text/plain": [
              "Pipeline(steps=[('all_column_preprocessing',\n",
              "                 ColumnTransformer(transformers=[('numeric_preprocessing',\n",
              "                                                  Pipeline(steps=[('scaler',\n",
              "                                                                   StandardScaler())]),\n",
              "                                                  Index(['MSSubClass', 'LotFrontage', 'LotArea', 'MiscVal', 'MoSold', 'YrSold'], dtype='object')),\n",
              "                                                 ('categorical_preprocessing',\n",
              "                                                  Pipeline(steps=[('onehot',\n",
              "                                                                   OneHotEncoder())]),\n",
              "                                                  Index(['MSZoning', 'Street', 'LotShape', 'LandContour', 'Utilities',\n",
              "       'SaleType'],\n",
              "      dtype='object'))])),\n",
              "                ('randforestclassifier', RandomForestRegressor())])"
            ]
          },
          "metadata": {},
          "execution_count": 94
        }
      ]
    },
    {
      "cell_type": "code",
      "source": [
        ""
      ],
      "metadata": {
        "id": "sMVxDWB7ee1j"
      },
      "execution_count": null,
      "outputs": []
    }
  ]
}